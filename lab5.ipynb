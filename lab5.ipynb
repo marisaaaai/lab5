{
  "nbformat": 4,
  "nbformat_minor": 0,
  "metadata": {
    "colab": {
      "name": "lab5.ipynb",
      "provenance": [],
      "authorship_tag": "ABX9TyOf8IIoZ4ahkKZD8kdIU6xx",
      "include_colab_link": true
    },
    "kernelspec": {
      "name": "python3",
      "display_name": "Python 3"
    },
    "language_info": {
      "name": "python"
    }
  },
  "cells": [
    {
      "cell_type": "markdown",
      "metadata": {
        "id": "view-in-github",
        "colab_type": "text"
      },
      "source": [
        "<a href=\"https://colab.research.google.com/github/marisaaaai/lab5/blob/main/lab5.ipynb\" target=\"_parent\"><img src=\"https://colab.research.google.com/assets/colab-badge.svg\" alt=\"Open In Colab\"/></a>"
      ]
    },
    {
      "cell_type": "markdown",
      "metadata": {
        "id": "1pB-Z3vDsyS3"
      },
      "source": [
        "# Laboratorio 5.\n",
        "## Análisis de Sentimientos\n",
        "\n",
        "---\n",
        "Participantes:\n",
        "\n",
        "\n",
        "*   María Isabel Montoya Valladares 19169\n",
        "*   Luis Pedro García Salazar 19344\n",
        "* María José Morales Reichenbach 19145\n",
        "\n",
        "\n"
      ]
    }
  ]
}